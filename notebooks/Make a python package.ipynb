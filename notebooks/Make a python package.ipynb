{
 "cells": [
  {
   "cell_type": "markdown",
   "metadata": {},
   "source": [
    "# Generic Shooting"
   ]
  },
  {
   "cell_type": "code",
   "execution_count": 16,
   "metadata": {},
   "outputs": [
    {
     "ename": "ImportError",
     "evalue": "attempted relative import with no known parent package",
     "output_type": "error",
     "traceback": [
      "\u001b[1;31m---------------------------------------------------------------------------\u001b[0m",
      "\u001b[1;31mImportError\u001b[0m                               Traceback (most recent call last)",
      "\u001b[1;32m<ipython-input-16-fcaf73f4d668>\u001b[0m in \u001b[0;36m<module>\u001b[1;34m()\u001b[0m\n\u001b[0;32m      5\u001b[0m \u001b[1;31m# temporary\u001b[0m\u001b[1;33m\u001b[0m\u001b[1;33m\u001b[0m\u001b[0m\n\u001b[0;32m      6\u001b[0m \u001b[1;31m# import schrodinger specific stuff\u001b[0m\u001b[1;33m\u001b[0m\u001b[1;33m\u001b[0m\u001b[0m\n\u001b[1;32m----> 7\u001b[1;33m \u001b[1;32mfrom\u001b[0m \u001b[1;33m.\u001b[0m\u001b[0mschrodinger\u001b[0m \u001b[1;32mimport\u001b[0m \u001b[1;33m*\u001b[0m\u001b[1;33m\u001b[0m\u001b[0m\n\u001b[0m\u001b[0;32m      8\u001b[0m \u001b[1;33m\u001b[0m\u001b[0m\n\u001b[0;32m      9\u001b[0m \u001b[1;32mdef\u001b[0m \u001b[0mfind_energies\u001b[0m\u001b[1;33m(\u001b[0m\u001b[0mV\u001b[0m\u001b[1;33m,\u001b[0m \u001b[0mn\u001b[0m\u001b[1;33m=\u001b[0m\u001b[1;36m3\u001b[0m\u001b[1;33m)\u001b[0m\u001b[1;33m:\u001b[0m\u001b[1;33m\u001b[0m\u001b[0m\n",
      "\u001b[1;31mImportError\u001b[0m: attempted relative import with no known parent package"
     ]
    }
   ],
   "source": [
    "import numpy as np\n",
    "from scipy.optimize import bisect\n",
    "from scipy.integrate import odeint\n",
    "\n",
    "# temporary\n",
    "# import schrodinger specific stuff\n",
    "from .schrodinger import *\n",
    "\n",
    "def find_energies(V, n=3):\n",
    "    \"\"\"Find the energies allowed by the TISE for a particular potential.\n",
    "    \n",
    "    Parameters:\n",
    "    -----------\n",
    "    V : function\n",
    "        the potential\n",
    "    n : integer, optional\n",
    "        how many energies to find; defaults to 3\n",
    "        \n",
    "    Returns:\n",
    "    --------\n",
    "    energies : list\n",
    "               energy values\n",
    "    \"\"\"\n",
    "    \n",
    "    if not callable(V):\n",
    "        raise TypeError(\"{} is not callable\".format(V))\n",
    "    energies = []\n",
    "    bracket_found = False\n",
    "    starting_value = 0.01\n",
    "    e_step = 0.3\n",
    "    \n",
    "    # prime the pump\n",
    "    prev_energy = starting_value\n",
    "    endpoint = turning_point(V, prev_energy) + 8\n",
    "    prev_bc = bc(prev_energy, V, endpoint)\n",
    "    \n",
    "    for idx in range(n):\n",
    "        # try energies until we find two values that bracket an eigenvalue\n",
    "        while not bracket_found:\n",
    "            current_energy = prev_energy + e_step\n",
    "            endpoint = turning_point(V, current_energy) + 8\n",
    "            current_bc = bc(current_energy, V, endpoint)\n",
    "            if np.sign(current_bc) != np.sign(prev_bc):\n",
    "                bracket_found = True\n",
    "            else:\n",
    "                prev_energy = current_energy\n",
    "                prev_bc = current_bc\n",
    "        # use bisect to get the actual value\n",
    "        energies.append(bisect(bc, prev_energy, current_energy, args=(V,endpoint,)))\n",
    "        \n",
    "        # set up for the next energy\n",
    "        # populate prev_energy\n",
    "        prev_energy = current_energy\n",
    "        prev_bc = current_bc\n",
    "        # we no longer have a bracket\n",
    "        bracket_found = False\n",
    "    return energies\n",
    "\n",
    "def bc(E, V, endpoint=5):\n",
    "    \"\"\"Find the boundary value for a given energy.\n",
    "    \n",
    "    Parameters:\n",
    "    -----------\n",
    "    E : number\n",
    "        The energy to test\n",
    "    V : function\n",
    "        The potential function\n",
    "    endpoint : number, optional\n",
    "               the endpoint for the integration interval.\n",
    "    Returns:\n",
    "    --------\n",
    "    psi(endpoint) : number\n",
    "             The value of psi at x=endpoint. \n",
    "    \"\"\"\n",
    "    domain = np.linspace(-endpoint,endpoint,1000)\n",
    "    y0 = (0.0, 1.0)\n",
    "        \n",
    "    result = odeint(schro_rhs, y0, domain, args=(E,V,))\n",
    "    return result[-1, 0]"
   ]
  },
  {
   "cell_type": "code",
   "execution_count": 18,
   "metadata": {},
   "outputs": [
    {
     "name": "stdout",
     "output_type": "stream",
     "text": [
      "The following commands were written to file `shooting/shooting.py`:\n",
      "import numpy as np\n",
      "from scipy.optimize import bisect\n",
      "from scipy.integrate import odeint\n",
      "\n",
      "# temporary\n",
      "# import schrodinger specific stuff\n",
      "from .schrodinger import *\n",
      "\n",
      "def find_energies(V, n=3):\n",
      "    \"\"\"Find the energies allowed by the TISE for a particular potential.\n",
      "    \n",
      "    Parameters:\n",
      "    -----------\n",
      "    V : function\n",
      "        the potential\n",
      "    n : integer, optional\n",
      "        how many energies to find; defaults to 3\n",
      "        \n",
      "    Returns:\n",
      "    --------\n",
      "    energies : list\n",
      "               energy values\n",
      "    \"\"\"\n",
      "    \n",
      "    if not callable(V):\n",
      "        raise TypeError(\"{} is not callable\".format(V))\n",
      "    energies = []\n",
      "    bracket_found = False\n",
      "    starting_value = 0.01\n",
      "    e_step = 0.3\n",
      "    \n",
      "    # prime the pump\n",
      "    prev_energy = starting_value\n",
      "    endpoint = turning_point(V, prev_energy) + 8\n",
      "    prev_bc = bc(prev_energy, V, endpoint)\n",
      "    \n",
      "    for idx in range(n):\n",
      "        # try energies until we find two values that bracket an eigenvalue\n",
      "        while not bracket_found:\n",
      "            current_energy = prev_energy + e_step\n",
      "            endpoint = turning_point(V, current_energy) + 8\n",
      "            current_bc = bc(current_energy, V, endpoint)\n",
      "            if np.sign(current_bc) != np.sign(prev_bc):\n",
      "                bracket_found = True\n",
      "            else:\n",
      "                prev_energy = current_energy\n",
      "                prev_bc = current_bc\n",
      "        # use bisect to get the actual value\n",
      "        energies.append(bisect(bc, prev_energy, current_energy, args=(V,endpoint,)))\n",
      "        \n",
      "        # set up for the next energy\n",
      "        # populate prev_energy\n",
      "        prev_energy = current_energy\n",
      "        prev_bc = current_bc\n",
      "        # we no longer have a bracket\n",
      "        bracket_found = False\n",
      "    return energies\n",
      "\n",
      "def bc(E, V, endpoint=5):\n",
      "    \"\"\"Find the boundary value for a given energy.\n",
      "    \n",
      "    Parameters:\n",
      "    -----------\n",
      "    E : number\n",
      "        The energy to test\n",
      "    V : function\n",
      "        The potential function\n",
      "    endpoint : number, optional\n",
      "               the endpoint for the integration interval.\n",
      "    Returns:\n",
      "    --------\n",
      "    psi(endpoint) : number\n",
      "             The value of psi at x=endpoint. \n",
      "    \"\"\"\n",
      "    domain = np.linspace(-endpoint,endpoint,1000)\n",
      "    y0 = (0.0, 1.0)\n",
      "        \n",
      "    result = odeint(schro_rhs, y0, domain, args=(E,V,))\n",
      "    return result[-1, 0]\n"
     ]
    }
   ],
   "source": [
    "%save \"shooting/shooting\" 16"
   ]
  },
  {
   "cell_type": "markdown",
   "metadata": {},
   "source": [
    "# Schrodinger-specific"
   ]
  },
  {
   "cell_type": "code",
   "execution_count": 1,
   "metadata": {},
   "outputs": [],
   "source": [
    "import numpy as np\n",
    "\n",
    "def schro_rhs(y, x, E, V, m=1.0, hbar=1.0):\n",
    "    \"\"\"RHS for the time independent schrodinger equation.\n",
    "    \n",
    "    Parameters:\n",
    "    -----------\n",
    "    y : iterable of floats\n",
    "        contains $\\psi(x)$ and $\\psi'(x)$\n",
    "    x : float\n",
    "        the position at which we're evaluating the equation\n",
    "    E : float\n",
    "        Energy of the quantum state\n",
    "    V : function\n",
    "        function for the potential\n",
    "    m : float, optional\n",
    "        mass; defaults to 1\n",
    "    hbar : float, optional\n",
    "           Planck's constant/2pi; defaults to 1\n",
    "    \n",
    "    Returns:\n",
    "    --------\n",
    "    float : the right hand side of the time independent schrodinger\n",
    "            equation for the time independent Schrodinger equation:\n",
    "            $$\\frac{d^2\\psi}{dx^2} = -\\frac{2m}{\\hbar^2}\n",
    "            \\left(E - V(x) \\right)\\psi.$$\n",
    "    \"\"\"\n",
    "    psi, psiprime = y\n",
    "    psidoubleprime = -(2*m/hbar**2)*(E-V(x))*psi\n",
    "    \n",
    "    return np.array([psiprime, psidoubleprime])\n",
    "\n",
    "def turning_point(V, E):\n",
    "    \"\"\"find the classical turning point for the potential and energy\"\"\"\n",
    "    \n",
    "    # this works for SHO; won't for other potentials\n",
    "    A = V(1)\n",
    "    return np.sqrt(E/A)\n",
    "\n",
    "def harmonic(x, m=1, omega=1):\n",
    "    \"\"\"Potential for the harmonic oscillator\"\"\"\n",
    "    \n",
    "    return m*omega**2*x**2/2"
   ]
  },
  {
   "cell_type": "code",
   "execution_count": 12,
   "metadata": {},
   "outputs": [
    {
     "name": "stdout",
     "output_type": "stream",
     "text": [
      "The following commands were written to file `shooting/schrodinger.py`:\n",
      "import numpy as np\n",
      "\n",
      "def schro_rhs(y, x, E, V, m=1.0, hbar=1.0):\n",
      "    \"\"\"RHS for the time independent schrodinger equation.\n",
      "    \n",
      "    Parameters:\n",
      "    -----------\n",
      "    y : iterable of floats\n",
      "        contains $\\psi(x)$ and $\\psi'(x)$\n",
      "    x : float\n",
      "        the position at which we're evaluating the equation\n",
      "    E : float\n",
      "        Energy of the quantum state\n",
      "    V : function\n",
      "        function for the potential\n",
      "    m : float, optional\n",
      "        mass; defaults to 1\n",
      "    hbar : float, optional\n",
      "           Planck's constant/2pi; defaults to 1\n",
      "    \n",
      "    Returns:\n",
      "    --------\n",
      "    float : the right hand side of the time independent schrodinger\n",
      "            equation for the time independent Schrodinger equation:\n",
      "            $$\\frac{d^2\\psi}{dx^2} = -\\frac{2m}{\\hbar^2}\n",
      "            \\left(E - V(x) \\right)\\psi.$$\n",
      "    \"\"\"\n",
      "    psi, psiprime = y\n",
      "    psidoubleprime = -(2*m/hbar**2)*(E-V(x))*psi\n",
      "    \n",
      "    return np.array([psiprime, psidoubleprime])\n",
      "\n",
      "def turning_point(V, E):\n",
      "    \"\"\"find the classical turning point for the potential and energy\"\"\"\n",
      "    \n",
      "    # this works for SHO; won't for other potentials\n",
      "    A = V(1)\n",
      "    return np.sqrt(E/A)\n",
      "\n",
      "def harmonic(x, m=1, omega=1):\n",
      "    \"\"\"Potential for the harmonic oscillator\"\"\"\n",
      "    \n",
      "    return m*omega**2*x**2/2\n"
     ]
    }
   ],
   "source": [
    "%save \"shooting/schrodinger\" 1"
   ]
  },
  {
   "cell_type": "code",
   "execution_count": 11,
   "metadata": {},
   "outputs": [],
   "source": []
  },
  {
   "cell_type": "markdown",
   "metadata": {},
   "source": [
    "# Tests"
   ]
  },
  {
   "cell_type": "code",
   "execution_count": 19,
   "metadata": {},
   "outputs": [
    {
     "ename": "ImportError",
     "evalue": "attempted relative import with no known parent package",
     "output_type": "error",
     "traceback": [
      "\u001b[1;31m---------------------------------------------------------------------------\u001b[0m",
      "\u001b[1;31mImportError\u001b[0m                               Traceback (most recent call last)",
      "\u001b[1;32m<ipython-input-19-2d7d0b141a67>\u001b[0m in \u001b[0;36m<module>\u001b[1;34m()\u001b[0m\n\u001b[0;32m      3\u001b[0m \u001b[1;33m\u001b[0m\u001b[0m\n\u001b[0;32m      4\u001b[0m \u001b[1;31m# import the function(s) to test\u001b[0m\u001b[1;33m\u001b[0m\u001b[1;33m\u001b[0m\u001b[0m\n\u001b[1;32m----> 5\u001b[1;33m \u001b[1;32mfrom\u001b[0m \u001b[1;33m.\u001b[0m\u001b[0mshooting\u001b[0m \u001b[1;32mimport\u001b[0m \u001b[0mfind_energies\u001b[0m\u001b[1;33m\u001b[0m\u001b[0m\n\u001b[0m\u001b[0;32m      6\u001b[0m \u001b[1;33m\u001b[0m\u001b[0m\n\u001b[0;32m      7\u001b[0m \u001b[1;32mdef\u001b[0m \u001b[0mtest_find_energies_sho\u001b[0m\u001b[1;33m(\u001b[0m\u001b[0mn\u001b[0m\u001b[1;33m=\u001b[0m\u001b[1;36m3\u001b[0m\u001b[1;33m)\u001b[0m\u001b[1;33m:\u001b[0m\u001b[1;33m\u001b[0m\u001b[0m\n",
      "\u001b[1;31mImportError\u001b[0m: attempted relative import with no known parent package"
     ]
    }
   ],
   "source": [
    "import numpy as np\n",
    "from numpy.testing import assert_allclose\n",
    "\n",
    "# import the function(s) to test\n",
    "from .shooting import find_energies\n",
    "\n",
    "def test_find_energies_sho(n=3):\n",
    "    \"\"\"Test that find_energies gives correct results for the harmonic oscillator.\"\"\"\n",
    "    \n",
    "    def sho_test(x):\n",
    "        \"\"\"Potential for the harmonic oscillator, with m=1, omega=1\"\"\"    \n",
    "        return x**2/2\n",
    "\n",
    "    desired_energies = np.array([i+0.5 for i in range(n)])\n",
    "    assert_allclose(find_energies(sho_test, n), desired_energies)"
   ]
  },
  {
   "cell_type": "code",
   "execution_count": 20,
   "metadata": {},
   "outputs": [
    {
     "name": "stdout",
     "output_type": "stream",
     "text": [
      "The following commands were written to file `shooting/tests.py`:\n",
      "import numpy as np\n",
      "from numpy.testing import assert_allclose\n",
      "\n",
      "# import the function(s) to test\n",
      "from .shooting import find_energies\n",
      "\n",
      "def test_find_energies_sho(n=3):\n",
      "    \"\"\"Test that find_energies gives correct results for the harmonic oscillator.\"\"\"\n",
      "    \n",
      "    def sho_test(x):\n",
      "        \"\"\"Potential for the harmonic oscillator, with m=1, omega=1\"\"\"    \n",
      "        return x**2/2\n",
      "\n",
      "    desired_energies = np.array([i+0.5 for i in range(n)])\n",
      "    assert_allclose(find_energies(sho_test, n), desired_energies)\n"
     ]
    }
   ],
   "source": [
    "%save \"shooting/tests\" 19"
   ]
  },
  {
   "cell_type": "markdown",
   "metadata": {},
   "source": [
    "# Plots"
   ]
  },
  {
   "cell_type": "code",
   "execution_count": 21,
   "metadata": {},
   "outputs": [
    {
     "ename": "ImportError",
     "evalue": "attempted relative import with no known parent package",
     "output_type": "error",
     "traceback": [
      "\u001b[1;31m---------------------------------------------------------------------------\u001b[0m",
      "\u001b[1;31mImportError\u001b[0m                               Traceback (most recent call last)",
      "\u001b[1;32m<ipython-input-21-f58a8734b1d6>\u001b[0m in \u001b[0;36m<module>\u001b[1;34m()\u001b[0m\n\u001b[0;32m      4\u001b[0m \u001b[1;33m\u001b[0m\u001b[0m\n\u001b[0;32m      5\u001b[0m \u001b[1;31m# import the shooting stuff\u001b[0m\u001b[1;33m\u001b[0m\u001b[1;33m\u001b[0m\u001b[0m\n\u001b[1;32m----> 6\u001b[1;33m \u001b[1;32mfrom\u001b[0m \u001b[1;33m.\u001b[0m\u001b[0mshooting\u001b[0m \u001b[1;32mimport\u001b[0m \u001b[0mfind_energies\u001b[0m\u001b[1;33m\u001b[0m\u001b[0m\n\u001b[0m\u001b[0;32m      7\u001b[0m \u001b[1;32mfrom\u001b[0m \u001b[1;33m.\u001b[0m\u001b[0mschrodinger\u001b[0m \u001b[1;32mimport\u001b[0m \u001b[0mschro_rhs\u001b[0m\u001b[1;33m\u001b[0m\u001b[0m\n\u001b[0;32m      8\u001b[0m \u001b[1;33m\u001b[0m\u001b[0m\n",
      "\u001b[1;31mImportError\u001b[0m: attempted relative import with no known parent package"
     ]
    }
   ],
   "source": [
    "import numpy as np\n",
    "import matplotlib.pyplot as plt\n",
    "from scipy.integrate import odeint\n",
    "\n",
    "# import the shooting stuff\n",
    "from .shooting import find_energies\n",
    "from .schrodinger import schro_rhs\n",
    "\n",
    "def plot_energy_diagram(V, n=3):\n",
    "    \"\"\"Plot an energy diagram for a potential well.\"\"\"\n",
    "    \n",
    "    domain = np.linspace(-5, 5, 1000)\n",
    "    halfdomain = np.linspace(0, 5, 500)\n",
    "    potential = V(domain)\n",
    "    minx = np.min(domain)\n",
    "    maxx = np.max(domain)\n",
    "    \n",
    "    fig, ax = plt.subplots(1)\n",
    "    fig.set_figwidth(10)\n",
    "    fig.set_figheight(6)\n",
    "    \n",
    "    ax.plot(domain, potential)\n",
    "    ax.set_axis_off()\n",
    "    \n",
    "    # plot energies and eigenfunctions\n",
    "    energies = find_energies(V, n)\n",
    "    even = True\n",
    "    for energy in energies:\n",
    "        ax.plot([minx, maxx], [energy, energy], \":\", color=\"gray\")\n",
    "        y0 = (0.0, 1.0)\n",
    "        result = odeint(schro_rhs, y0, domain, args=(energy, V))\n",
    "        eigenfunction = 0.3*(result[:,0]) + energy\n",
    "        ax.plot(domain, eigenfunction)\n",
    "        ax.text(4.5, energy,\"$E={:5.2f}$\".format(energy),  verticalalignment=\"bottom\")\n",
    "        even = not even\n",
    "    deltae = energies[-1] - energies[-2]    \n",
    "    ax.set_ylim(-0.1, energies[-1] + deltae)"
   ]
  },
  {
   "cell_type": "code",
   "execution_count": 22,
   "metadata": {},
   "outputs": [
    {
     "name": "stdout",
     "output_type": "stream",
     "text": [
      "The following commands were written to file `shooting/plots.py`:\n",
      "import numpy as np\n",
      "import matplotlib.pyplot as plt\n",
      "from scipy.integrate import odeint\n",
      "\n",
      "# import the shooting stuff\n",
      "from .shooting import find_energies\n",
      "from .schrodinger import schro_rhs\n",
      "\n",
      "def plot_energy_diagram(V, n=3):\n",
      "    \"\"\"Plot an energy diagram for a potential well.\"\"\"\n",
      "    \n",
      "    domain = np.linspace(-5, 5, 1000)\n",
      "    halfdomain = np.linspace(0, 5, 500)\n",
      "    potential = V(domain)\n",
      "    minx = np.min(domain)\n",
      "    maxx = np.max(domain)\n",
      "    \n",
      "    fig, ax = plt.subplots(1)\n",
      "    fig.set_figwidth(10)\n",
      "    fig.set_figheight(6)\n",
      "    \n",
      "    ax.plot(domain, potential)\n",
      "    ax.set_axis_off()\n",
      "    \n",
      "    # plot energies and eigenfunctions\n",
      "    energies = find_energies(V, n)\n",
      "    even = True\n",
      "    for energy in energies:\n",
      "        ax.plot([minx, maxx], [energy, energy], \":\", color=\"gray\")\n",
      "        y0 = (0.0, 1.0)\n",
      "        result = odeint(schro_rhs, y0, domain, args=(energy, V))\n",
      "        eigenfunction = 0.3*(result[:,0]) + energy\n",
      "        ax.plot(domain, eigenfunction)\n",
      "        ax.text(4.5, energy,\"$E={:5.2f}$\".format(energy),  verticalalignment=\"bottom\")\n",
      "        even = not even\n",
      "    deltae = energies[-1] - energies[-2]    \n",
      "    ax.set_ylim(-0.1, energies[-1] + deltae)\n"
     ]
    }
   ],
   "source": [
    "%save shooting/plots 21"
   ]
  },
  {
   "cell_type": "markdown",
   "metadata": {},
   "source": [
    "# turning this into a functional package"
   ]
  },
  {
   "cell_type": "code",
   "execution_count": 11,
   "metadata": {},
   "outputs": [
    {
     "ename": "ImportError",
     "evalue": "attempted relative import with no known parent package",
     "output_type": "error",
     "traceback": [
      "\u001b[1;31m---------------------------------------------------------------------------\u001b[0m",
      "\u001b[1;31mImportError\u001b[0m                               Traceback (most recent call last)",
      "\u001b[1;32m<ipython-input-11-1c92871061e1>\u001b[0m in \u001b[0;36m<module>\u001b[1;34m()\u001b[0m\n\u001b[1;32m----> 1\u001b[1;33m \u001b[1;32mfrom\u001b[0m \u001b[1;33m.\u001b[0m\u001b[0mshooting\u001b[0m \u001b[1;32mimport\u001b[0m \u001b[1;33m*\u001b[0m\u001b[1;33m\u001b[0m\u001b[0m\n\u001b[0m\u001b[0;32m      2\u001b[0m \u001b[1;32mfrom\u001b[0m \u001b[1;33m.\u001b[0m\u001b[0mschrodinger\u001b[0m \u001b[1;32mimport\u001b[0m \u001b[1;33m*\u001b[0m\u001b[1;33m\u001b[0m\u001b[0m\n\u001b[0;32m      3\u001b[0m \u001b[1;32mfrom\u001b[0m \u001b[1;33m.\u001b[0m\u001b[0mplots\u001b[0m \u001b[1;32mimport\u001b[0m \u001b[1;33m*\u001b[0m\u001b[1;33m\u001b[0m\u001b[0m\n",
      "\u001b[1;31mImportError\u001b[0m: attempted relative import with no known parent package"
     ]
    }
   ],
   "source": [
    "from .shooting import *\n",
    "from .schrodinger import *\n",
    "from .plots import *"
   ]
  },
  {
   "cell_type": "code",
   "execution_count": 12,
   "metadata": {},
   "outputs": [
    {
     "name": "stdout",
     "output_type": "stream",
     "text": [
      "File `shooting/__init__.py` exists. Overwrite (y/[N])?  y\n",
      "'%' was not found in history, as a file, url, nor in the user namespace.\n"
     ]
    }
   ],
   "source": [
    "%save shooting/__init__.py %"
   ]
  },
  {
   "cell_type": "code",
   "execution_count": 15,
   "metadata": {},
   "outputs": [
    {
     "data": {
      "text/plain": [
       "'type(_ih)'"
      ]
     },
     "execution_count": 15,
     "metadata": {},
     "output_type": "execute_result"
    }
   ],
   "source": [
    "_ih[-3]"
   ]
  },
  {
   "cell_type": "code",
   "execution_count": 1,
   "metadata": {},
   "outputs": [],
   "source": [
    "import shooting"
   ]
  },
  {
   "cell_type": "code",
   "execution_count": 2,
   "metadata": {},
   "outputs": [
    {
     "name": "stdout",
     "output_type": "stream",
     "text": [
      "Help on function find_energies in module shooting.shooting:\n",
      "\n",
      "find_energies(V, n=3)\n",
      "    Find the energies allowed by the TISE for a particular potential.\n",
      "    \n",
      "    Parameters:\n",
      "    -----------\n",
      "    V : function\n",
      "        the potential\n",
      "    n : integer, optional\n",
      "        how many energies to find; defaults to 3\n",
      "        \n",
      "    Returns:\n",
      "    --------\n",
      "    energies : list\n",
      "               energy values\n",
      "\n"
     ]
    }
   ],
   "source": [
    "help(shooting.find_energies)"
   ]
  },
  {
   "cell_type": "code",
   "execution_count": 3,
   "metadata": {},
   "outputs": [
    {
     "data": {
      "text/plain": [
       "[0.5000000045123304, 1.50000000277556, 2.4999999969919005]"
      ]
     },
     "execution_count": 3,
     "metadata": {},
     "output_type": "execute_result"
    }
   ],
   "source": [
    "shooting.find_energies(shooting.harmonic)"
   ]
  },
  {
   "cell_type": "code",
   "execution_count": 6,
   "metadata": {},
   "outputs": [
    {
     "name": "stdout",
     "output_type": "stream",
     "text": [
      "%history\n"
     ]
    }
   ],
   "source": [
    "%history -l1"
   ]
  },
  {
   "cell_type": "code",
   "execution_count": 5,
   "metadata": {},
   "outputs": [
    {
     "name": "stdout",
     "output_type": "stream",
     "text": [
      "import shooting\n",
      "help(shooting.find_energies)\n",
      "shooting.find_energies(shooting.harmonic)\n",
      "%history -1\n",
      "%history\n"
     ]
    }
   ],
   "source": [
    "%history"
   ]
  },
  {
   "cell_type": "code",
   "execution_count": null,
   "metadata": {},
   "outputs": [],
   "source": []
  },
  {
   "cell_type": "code",
   "execution_count": null,
   "metadata": {},
   "outputs": [],
   "source": []
  },
  {
   "cell_type": "code",
   "execution_count": null,
   "metadata": {},
   "outputs": [],
   "source": []
  },
  {
   "cell_type": "code",
   "execution_count": null,
   "metadata": {},
   "outputs": [],
   "source": []
  },
  {
   "cell_type": "code",
   "execution_count": 2,
   "metadata": {},
   "outputs": [],
   "source": [
    "import shooting"
   ]
  },
  {
   "cell_type": "code",
   "execution_count": null,
   "metadata": {},
   "outputs": [],
   "source": []
  }
 ],
 "metadata": {
  "kernelspec": {
   "display_name": "Python 3",
   "language": "python",
   "name": "python3"
  },
  "language_info": {
   "codemirror_mode": {
    "name": "ipython",
    "version": 3
   },
   "file_extension": ".py",
   "mimetype": "text/x-python",
   "name": "python",
   "nbconvert_exporter": "python",
   "pygments_lexer": "ipython3",
   "version": "3.5.4"
  }
 },
 "nbformat": 4,
 "nbformat_minor": 2
}
