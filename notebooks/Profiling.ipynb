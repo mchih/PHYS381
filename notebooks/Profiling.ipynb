{
 "cells": [
  {
   "cell_type": "markdown",
   "metadata": {
    "slideshow": {
     "slide_type": "slide"
    }
   },
   "source": [
    "# A gentle introduction to performance\n",
    "\n",
    "### PHYS 381"
   ]
  },
  {
   "cell_type": "markdown",
   "metadata": {
    "slideshow": {
     "slide_type": "slide"
    }
   },
   "source": [
    "## Before we dive in..."
   ]
  },
  {
   "cell_type": "markdown",
   "metadata": {
    "slideshow": {
     "slide_type": "subslide"
    }
   },
   "source": [
    "[<img src=\"https://imgs.xkcd.com/comics/is_it_worth_the_time.png\">](https://xkcd.com/1205/)"
   ]
  },
  {
   "cell_type": "markdown",
   "metadata": {
    "slideshow": {
     "slide_type": "subslide"
    }
   },
   "source": [
    "[<img src=\"https://imgs.xkcd.com/comics/automation.png\">](https://xkcd.com/1319/)"
   ]
  },
  {
   "cell_type": "markdown",
   "metadata": {
    "slideshow": {
     "slide_type": "subslide"
    }
   },
   "source": [
    "[<img src=\"https://imgs.xkcd.com/comics/efficiency_2x.png\">](https://xkcd.com/1445/)"
   ]
  },
  {
   "cell_type": "markdown",
   "metadata": {
    "slideshow": {
     "slide_type": "slide"
    }
   },
   "source": [
    "## The code\n",
    "\n",
    "We're going to look at performance of a shooting code, applied to the quantum harmonic oscillator."
   ]
  },
  {
   "cell_type": "code",
   "execution_count": 2,
   "metadata": {
    "slideshow": {
     "slide_type": "fragment"
    }
   },
   "outputs": [
    {
     "data": {
      "text/plain": [
       "[0.500000003768,\n",
       " 1.5000000022735187,\n",
       " 2.5000000104073115,\n",
       " 3.5000000051911777,\n",
       " 4.500000001121005]"
      ]
     },
     "execution_count": 2,
     "metadata": {},
     "output_type": "execute_result"
    }
   ],
   "source": [
    "import shooting as original\n",
    "\n",
    "original.get_energies(original.harmonic, 5)"
   ]
  },
  {
   "cell_type": "markdown",
   "metadata": {
    "slideshow": {
     "slide_type": "slide"
    }
   },
   "source": [
    "## First question\n",
    "\n",
    "How long does it take to run?"
   ]
  },
  {
   "cell_type": "markdown",
   "metadata": {
    "slideshow": {
     "slide_type": "subslide"
    }
   },
   "source": [
    "### The simple way"
   ]
  },
  {
   "cell_type": "code",
   "execution_count": 3,
   "metadata": {
    "slideshow": {
     "slide_type": "fragment"
    }
   },
   "outputs": [
    {
     "data": {
      "text/plain": [
       "1.511915922164917"
      ]
     },
     "execution_count": 3,
     "metadata": {},
     "output_type": "execute_result"
    }
   ],
   "source": [
    "import time\n",
    "starting_time = time.time()\n",
    "original.get_energies(original.harmonic, 5)\n",
    "ending_time = time.time()\n",
    "time_delta = ending_time - starting_time\n",
    "time_delta"
   ]
  },
  {
   "cell_type": "markdown",
   "metadata": {
    "slideshow": {
     "slide_type": "subslide"
    }
   },
   "source": [
    "## The better way"
   ]
  },
  {
   "cell_type": "code",
   "execution_count": 4,
   "metadata": {
    "slideshow": {
     "slide_type": "fragment"
    }
   },
   "outputs": [
    {
     "name": "stdout",
     "output_type": "stream",
     "text": [
      "1 loops, best of 3: 1.5 s per loop\n"
     ]
    }
   ],
   "source": [
    "%timeit original.get_energies(original.harmonic, 5)"
   ]
  },
  {
   "cell_type": "code",
   "execution_count": 5,
   "metadata": {
    "slideshow": {
     "slide_type": "fragment"
    }
   },
   "outputs": [
    {
     "name": "stdout",
     "output_type": "stream",
     "text": [
      "1 loops, best of 3: 4.01 s per loop\n"
     ]
    }
   ],
   "source": [
    "%timeit original.get_energies(original.harmonic, 10)"
   ]
  },
  {
   "cell_type": "code",
   "execution_count": 6,
   "metadata": {
    "slideshow": {
     "slide_type": "fragment"
    }
   },
   "outputs": [
    {
     "name": "stdout",
     "output_type": "stream",
     "text": [
      "1 loops, best of 3: 7.45 s per loop\n"
     ]
    }
   ],
   "source": [
    "%timeit original.get_energies(original.harmonic, 15)"
   ]
  },
  {
   "cell_type": "code",
   "execution_count": 7,
   "metadata": {
    "slideshow": {
     "slide_type": "fragment"
    }
   },
   "outputs": [
    {
     "name": "stdout",
     "output_type": "stream",
     "text": [
      "1 loops, best of 3: 11.6 s per loop\n"
     ]
    }
   ],
   "source": [
    "%timeit original.get_energies(original.harmonic, 20)"
   ]
  },
  {
   "cell_type": "code",
   "execution_count": 8,
   "metadata": {
    "slideshow": {
     "slide_type": "fragment"
    }
   },
   "outputs": [
    {
     "name": "stdout",
     "output_type": "stream",
     "text": [
      "100 loops, best of 3: 3.93 ms per loop\n"
     ]
    }
   ],
   "source": [
    "# check overhead\n",
    "%timeit original.get_energies(original.harmonic, 0)"
   ]
  },
  {
   "cell_type": "markdown",
   "metadata": {
    "slideshow": {
     "slide_type": "subslide"
    }
   },
   "source": [
    "### Collecting this data..."
   ]
  },
  {
   "cell_type": "code",
   "execution_count": 9,
   "metadata": {
    "slideshow": {
     "slide_type": "skip"
    }
   },
   "outputs": [],
   "source": [
    "import numpy as np\n",
    "import matplotlib.pyplot as plt\n",
    "\n",
    "%matplotlib inline"
   ]
  },
  {
   "cell_type": "code",
   "execution_count": 11,
   "metadata": {
    "slideshow": {
     "slide_type": "fragment"
    }
   },
   "outputs": [
    {
     "data": {
      "image/png": "[encoded data removed]",
      "text/plain": [
       "<matplotlib.figure.Figure at 0x7f2e3241e048>"
      ]
     },
     "metadata": {},
     "output_type": "display_data"
    }
   ],
   "source": [
    "plt.plot([0,5,10,15,20], [3.95e-3, 1.5, 3.99, 7.49, 11.7], label=\"original\")\n",
    "plt.title(\"Shooting performance\")\n",
    "plt.ylabel(\"Run time (s)\")\n",
    "plt.xlabel(\"Number of eigenvalues\");"
   ]
  },
  {
   "cell_type": "markdown",
   "metadata": {
    "slideshow": {
     "slide_type": "slide"
    }
   },
   "source": [
    "## Second question:\n",
    "\n",
    "What is it doing that takes as long as it does?"
   ]
  },
  {
   "cell_type": "code",
   "execution_count": 19,
   "metadata": {
    "slideshow": {
     "slide_type": "subslide"
    }
   },
   "outputs": [
    {
     "name": "stdout",
     "output_type": "stream",
     "text": [
      "          561595 function calls in 1.708 seconds\n",
      "\n",
      "   Ordered by: internal time\n",
      "   List reduced from 33 to 6 due to restriction <6>\n",
      "\n",
      "   ncalls  tottime  percall  cumtime  percall filename:lineno(function)\n",
      "   185100    0.755    0.000    1.307    0.000 schrodinger.py:19(schro_rhs)\n",
      "   185532    0.401    0.000    0.401    0.000 {built-in method numpy.core.multiarray.array}\n",
      "      216    0.384    0.002    1.691    0.008 {built-in method scipy.integrate._odepack.odeint}\n",
      "   185916    0.152    0.000    0.152    0.000 schrodinger.py:63(harmonic)\n",
      "      216    0.007    0.000    0.012    0.000 function_base.py:25(linspace)\n",
      "      216    0.002    0.000    0.002    0.000 {built-in method numpy.core.multiarray.arange}\n",
      "\n",
      "\n"
     ]
    },
    {
     "data": {
      "text/plain": [
       "<pstats.Stats at 0x7f2e326f6a90>"
      ]
     },
     "execution_count": 19,
     "metadata": {},
     "output_type": "execute_result"
    }
   ],
   "source": [
    "stats_5 = %prun -r original.get_energies(original.harmonic, 5)\n",
    "stats_5.print_stats(6)"
   ]
  },
  {
   "cell_type": "code",
   "execution_count": 20,
   "metadata": {
    "slideshow": {
     "slide_type": "subslide"
    }
   },
   "outputs": [
    {
     "name": "stdout",
     "output_type": "stream",
     "text": [
      "          1504847 function calls in 4.576 seconds\n",
      "\n",
      "   Ordered by: internal time\n",
      "   List reduced from 33 to 6 due to restriction <6>\n",
      "\n",
      "   ncalls  tottime  percall  cumtime  percall filename:lineno(function)\n",
      "   497378    2.037    0.000    3.523    0.000 schrodinger.py:19(schro_rhs)\n",
      "   498244    1.080    0.000    1.080    0.000 {built-in method numpy.core.multiarray.array}\n",
      "      433    1.017    0.002    4.540    0.010 {built-in method scipy.integrate._odepack.odeint}\n",
      "   499061    0.410    0.000    0.410    0.000 schrodinger.py:63(harmonic)\n",
      "      433    0.015    0.000    0.023    0.000 function_base.py:25(linspace)\n",
      "      866    0.003    0.000    0.004    0.000 copy.py:67(copy)\n",
      "\n",
      "\n"
     ]
    },
    {
     "data": {
      "text/plain": [
       "<pstats.Stats at 0x7f2e3237af60>"
      ]
     },
     "execution_count": 20,
     "metadata": {},
     "output_type": "execute_result"
    }
   ],
   "source": [
    "stats_10 = %prun -r original.get_energies(original.harmonic, 10)\n",
    "stats_10.print_stats(6)"
   ]
  },
  {
   "cell_type": "markdown",
   "metadata": {},
   "source": [
    "### Modification 1: trim some fat"
   ]
  },
  {
   "cell_type": "code",
   "execution_count": 25,
   "metadata": {},
   "outputs": [],
   "source": [
    "# %load shooting/schrodinger.py\n",
    "\n",
    "\n",
    "def get_energies(V, n=3, soft_edge=True):\n",
    "    \"\"\"Use shoot_for_eigenvalues to find energies.\n",
    "\n",
    "    \"\"\"\n",
    "    from shooting import turning_point, shoot_for_eigenvalues\n",
    "    \n",
    "    args = (V,)\n",
    "    ic = (0,1)\n",
    "    if soft_edge:\n",
    "        get_interval_endpoint = lambda x, y: turning_point(x, y, increment=5)\n",
    "    else: # e.g., infinite square well\n",
    "        get_interval_endpoint = turning_point\n",
    "    energies = shoot_for_eigenvalues(schro_rhs, args, ic, get_interval_endpoint, n)\n",
    "    return energies\n",
    "\n",
    "def schro_rhs(y, x, E, V, m=1.0, hbar=1.0):\n",
    "    \"\"\"RHS for the time independent schrodinger equation.\n",
    "    \n",
    "    Parameters:\n",
    "    -----------\n",
    "    y : iterable of floats\n",
    "        contains $\\psi(x)$ and $\\psi'(x)$\n",
    "    x : float\n",
    "        the position at which we're evaluating the equation\n",
    "    E : float\n",
    "        Energy of the quantum state\n",
    "    V : function\n",
    "        function for the potential\n",
    "    m : float, optional\n",
    "        mass; defaults to 1\n",
    "    hbar : float, optional\n",
    "           Planck's constant/2pi; defaults to 1\n",
    "    \n",
    "    Returns:\n",
    "    --------\n",
    "    float : the right hand side of the time independent schrodinger\n",
    "            equation for the time independent Schrodinger equation:\n",
    "            $$\\frac{d^2\\psi}{dx^2} = -\\frac{2m}{\\hbar^2}\n",
    "            \\left(E - V(x) \\right)\\psi.$$\n",
    "    \"\"\"\n",
    "    psi, psiprime = y\n",
    "    psidoubleprime = -(2*m/hbar**2)*(E-V(x))*psi\n",
    "    \n",
    "    return psiprime, psidoubleprime"
   ]
  },
  {
   "cell_type": "code",
   "execution_count": 26,
   "metadata": {},
   "outputs": [
    {
     "name": "stdout",
     "output_type": "stream",
     "text": [
      "1 loops, best of 3: 1.29 s per loop\n"
     ]
    }
   ],
   "source": [
    "%timeit get_energies(original.harmonic, 5)"
   ]
  },
  {
   "cell_type": "code",
   "execution_count": 27,
   "metadata": {},
   "outputs": [
    {
     "name": "stdout",
     "output_type": "stream",
     "text": [
      "1 loops, best of 3: 3.51 s per loop\n"
     ]
    }
   ],
   "source": [
    "%timeit get_energies(original.harmonic, 10)"
   ]
  },
  {
   "cell_type": "code",
   "execution_count": 30,
   "metadata": {
    "slideshow": {
     "slide_type": "skip"
    }
   },
   "outputs": [
    {
     "name": "stdout",
     "output_type": "stream",
     "text": [
      "100 loops, best of 3: 3.85 ms per loop\n",
      "100 loops, best of 3: 3.46 ms per loop\n",
      "1 loops, best of 3: 1.52 s per loop\n",
      "1 loops, best of 3: 1.32 s per loop\n",
      "1 loops, best of 3: 4.05 s per loop\n",
      "1 loops, best of 3: 3.51 s per loop\n",
      "1 loops, best of 3: 7.45 s per loop\n",
      "1 loops, best of 3: 6.5 s per loop\n",
      "1 loops, best of 3: 11.6 s per loop\n",
      "1 loops, best of 3: 10.2 s per loop\n",
      "1 loops, best of 3: 16.9 s per loop\n",
      "1 loops, best of 3: 14.7 s per loop\n"
     ]
    }
   ],
   "source": [
    "neigs = range(0,26,5)\n",
    "original_times = []\n",
    "refactored_times = []\n",
    "for n in neigs:\n",
    "    time = %timeit -o original.get_energies(original.harmonic, n)\n",
    "    original_times.append(time)\n",
    "    newtime = %timeit -o get_energies(original.harmonic, n)\n",
    "    refactored_times.append(newtime)"
   ]
  },
  {
   "cell_type": "code",
   "execution_count": 35,
   "metadata": {},
   "outputs": [
    {
     "data": {
      "image/png": "[encoded data removed]",
      "text/plain": [
       "<matplotlib.figure.Figure at 0x7f2e323bbf60>"
      ]
     },
     "metadata": {},
     "output_type": "display_data"
    }
   ],
   "source": [
    "plt.plot(neigs, [res.best for res in original_times], label=\"original\")\n",
    "plt.plot(neigs, [res.best for res in refactored_times], label=\"refactored\")\n",
    "plt.title(\"Shooting performance\")\n",
    "plt.ylabel(\"Run time (s)\")\n",
    "plt.legend()\n",
    "plt.xlabel(\"Number of eigenvalues\");"
   ]
  }
 ],
 "metadata": {
  "celltoolbar": "Slideshow",
  "kernelspec": {
   "display_name": "Python 3",
   "language": "python",
   "name": "python3"
  },
  "language_info": {
   "codemirror_mode": {
    "name": "ipython",
    "version": 3
   },
   "file_extension": ".py",
   "mimetype": "text/x-python",
   "name": "python",
   "nbconvert_exporter": "python",
   "pygments_lexer": "ipython3",
   "version": "3.5.4"
  }
 },
 "nbformat": 4,
 "nbformat_minor": 2
}
